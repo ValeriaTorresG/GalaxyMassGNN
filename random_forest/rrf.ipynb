{
 "cells": [
  {
   "cell_type": "code",
   "execution_count": null,
   "metadata": {},
   "outputs": [],
   "source": [
    "from cuml import RandomForestClassifier as cuRF"
   ]
  },
  {
   "cell_type": "code",
   "execution_count": null,
   "metadata": {},
   "outputs": [],
   "source": [
    "class ModelOptimizaton:\n",
    "\n",
    "    def __init__(self, x_train, x_test, y_train, y_test):\n",
    "        self.x_train = x_train\n",
    "        self.x_test = x_test\n",
    "        self.y_train = y_train\n",
    "        self.y_test = y_test\n",
    "\n",
    "    def objective(self, trial):\n",
    "        criterion = trial.suggest_categorical('criterion', ['squared_error', 'absolute_error', 'friedman_mse', 'poisson'])\n",
    "        n_estimators = trial.suggest_int('n_estimators', 5, 100)\n",
    "        max_depth = trial.suggest_int('max_depth', 2, 10)\n",
    "        min_samples_split = trial.suggest_int('min_samples_split', 2, 10)\n",
    "        regressor = RandomForestRegressor(criterion=criterion, n_estimators=n_estimators, max_depth=max_depth, min_samples_split=min_samples_split, random_state=0)\n",
    "        regressor.fit(self.x_train, self.y_train)\n",
    "        return regressor.score(self.x_test, self.y_test)\n",
    "\n",
    "if __name__=='__main__':\n",
    "    nodes, _, _ = graph_r(rosettes[0])\n",
    "    x = [[flux_g, flux_r, flux_z, flux_w1, flux_w2, z] for [_, _, flux_g, flux_r, flux_z, flux_w1, flux_w2, z] in nodes]\n",
    "    y = [mass for [_, mass, _, _, _, _, _, _] in nodes]\n",
    "    x_train, x_test, y_train, y_test = train_test_split(x, y, test_size=0.8, random_state=42)\n",
    "    model = ModelOptimizaton(x_train, x_test, y_train, y_test)\n",
    "    study = optuna.create_study(direction='maximize')\n",
    "    study.optimize(model.objective, n_trials=100)"
   ]
  }
 ],
 "metadata": {
  "language_info": {
   "name": "python"
  }
 },
 "nbformat": 4,
 "nbformat_minor": 2
}
