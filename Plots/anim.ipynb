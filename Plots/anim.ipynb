{
 "cells": [
  {
   "cell_type": "code",
   "execution_count": null,
   "metadata": {},
   "outputs": [],
   "source": [
    "import csv\n",
    "import time as t\n",
    "import numpy as np\n",
    "\n",
    "import matplotlib as mpl\n",
    "import matplotlib.pyplot as plt\n",
    "import matplotlib.cm as cm\n",
    "from matplotlib.cm import ScalarMappable\n",
    "from matplotlib import animation\n",
    "from matplotlib import rc\n",
    "from mpl_toolkits.mplot3d import Axes3D\n",
    "plt.rcParams['figure.dpi'] = 360\n",
    "rc(\"animation\", html = \"jshtml\")"
   ]
  },
  {
   "cell_type": "code",
   "execution_count": null,
   "metadata": {},
   "outputs": [],
   "source": [
    "rosettes = [3,6,7,11,12,13,14,15,18,19]"
   ]
  },
  {
   "cell_type": "markdown",
   "metadata": {},
   "source": [
    "3D spherical plot?"
   ]
  },
  {
   "cell_type": "code",
   "execution_count": null,
   "metadata": {},
   "outputs": [],
   "source": [
    "def graph_mod(r):\n",
    "\n",
    "    nodes = []\n",
    "    edges = []\n",
    "    mass = []\n",
    "\n",
    "    with open(f'../data/rosette{r}_nodes.csv', mode='r') as csv_file:\n",
    "        csv_reader = csv.DictReader(csv_file)\n",
    "        for row in csv_reader:\n",
    "            if (row!=0):\n",
    "                values = list(row.values())\n",
    "                n = []\n",
    "                n.append(float(values[0]))\n",
    "                n.extend(22.5-2.5*np.log10([float(n) for n in values[2:-1]]))\n",
    "                n.append(float(values[-1]))\n",
    "                nodes.append(n)\n",
    "                mass.append(float(values[1]))\n",
    "\n",
    "    with open(f'../data/rosette{r}_edges.csv', mode='r') as csv_file:\n",
    "        csv_reader = csv.DictReader(csv_file)\n",
    "        for row in csv_reader:\n",
    "            if (row!=0):\n",
    "                edges.append([float(n) for n in list(row.values())])\n",
    "\n",
    "    return (nodes,edges,mass)"
   ]
  },
  {
   "cell_type": "code",
   "execution_count": null,
   "metadata": {},
   "outputs": [],
   "source": [
    "def coord_mod(r):\n",
    "    coord = []\n",
    "    with open(f'../coord/rosette{r}.csv', mode='r') as csv_file:\n",
    "        csv_reader = csv.DictReader(csv_file)\n",
    "        for row in csv_reader:\n",
    "            if (row!=0):\n",
    "                values = [float(n) for n in list(row.values())]\n",
    "                c = []\n",
    "                c.append(values[0])\n",
    "                c.append(float(values[3])*np.cos(values[2])*np.cos(values[1]))\n",
    "                c.append(float(values[3])*np.cos(values[2])*np.sin(values[1]))\n",
    "                c.append(float(values[3])*np.sin(values[2]))\n",
    "\n",
    "                coord.append(c)\n",
    "\n",
    "    return coord"
   ]
  },
  {
   "cell_type": "code",
   "execution_count": null,
   "metadata": {},
   "outputs": [],
   "source": [
    "def plot_graph(r):\n",
    "\n",
    "    coord = np.array(coord_mod(r))\n",
    "    nodes, edges, mass = graph_mod(r)\n",
    "    nodes, edges = np.array(nodes), np.array(edges)\n",
    "\n",
    "    plt.rcParams['font.size'] = 9\n",
    "    fig = plt.figure()\n",
    "    ax = fig.add_subplot(111, projection='3d')\n",
    "\n",
    "    cmap = cm.viridis\n",
    "    c_values = np.array(mass)\n",
    "    norm = (c_values - np.min(c_values)) / (np.max(c_values) - np.min(c_values))\n",
    "    min_norm = np.min(c_values)\n",
    "    max_norm = np.max(c_values)\n",
    "    sm = ScalarMappable(cmap=cmap, norm=plt.Normalize(vmin=min_norm, vmax=max_norm))\n",
    "    sm.set_array([])\n",
    "\n",
    "    ax.scatter(coord[:, 1], coord[:, 2], coord[:, 3], c=cmap(norm), s=mass)\n",
    "\n",
    "    for edge in edges:\n",
    "        indices = np.where(coord[:, 0] == edge[0])[0]\n",
    "        x1, y1, z1 = coord[indices[0], 1:4]\n",
    "\n",
    "        indices = np.where(coord[:, 0] == edge[1])[0]\n",
    "        x2, y2, z2 = coord[indices[0], 1:4]\n",
    "\n",
    "        ax.plot([x1, x2], [y1, y2], [z1, z2], color='black', linewidth=0.05)\n",
    "\n",
    "    ax.set_xlabel('X (Mpc)')\n",
    "    ax.set_ylabel('Y (Mpc)')\n",
    "    ax.set_zlabel('Z (Mpc)')\n",
    "    plt.title(f'Rosette {r}\\nr < 10 Mpc')\n",
    "\n",
    "    ax.xaxis._axinfo[\"grid\"]['linewidth'] = 0.5\n",
    "    ax.yaxis._axinfo[\"grid\"]['linewidth'] = 0.5\n",
    "    ax.zaxis._axinfo[\"grid\"]['linewidth'] = 0.5\n",
    "\n",
    "    cbar = plt.colorbar(sm, ax=ax, pad=0.14)\n",
    "    cbar.set_label(r'$\\log M_{*}$')\n",
    "\n",
    "    plt.tight_layout()\n",
    "    #plt.savefig(f'./rosette_img/rosette{r}.png')\n",
    "    #plt.show()"
   ]
  },
  {
   "cell_type": "code",
   "execution_count": null,
   "metadata": {},
   "outputs": [],
   "source": [
    "for r in rosettes[:1]:\n",
    "    init = t.time()\n",
    "    plot_graph(r)\n",
    "    end = t.time()\n",
    "    print(f'time plotting rosette_{r}: {round((end-init),2)} s')"
   ]
  },
  {
   "cell_type": "code",
   "execution_count": null,
   "metadata": {},
   "outputs": [],
   "source": [
    "fig = plt.figure()\n",
    "ax = fig.add_subplot(111, projection='3d')\n",
    "plt.rcParams['font.size'] = 10\n",
    "plt.rcParams['animation.embed_limit'] = 2**128\n",
    "\n",
    "r = rosettes[0]\n",
    "coord = np.array(coord_mod(r))\n",
    "nodes, edges, mass = graph_mod(r)\n",
    "nodes, edges = np.array(nodes), np.array(edges)\n",
    "\n",
    "cmap = cm.viridis\n",
    "c_values = np.array(mass)\n",
    "norm = (c_values - np.min(c_values)) / (np.max(c_values) - np.min(c_values))\n",
    "min_norm, max_norm = np.min(c_values), np.max(c_values)\n",
    "\n",
    "sc = ax.scatter(coord[:, 1], coord[:, 2], coord[:, 3], c=cmap(norm), s=mass)\n",
    "ax.set_title(f'Rosette {r}\\nr < 10 Mpc')\n",
    "ax.axis('off')\n",
    "ax.grid(False)\n",
    "\n",
    "cbar = plt.colorbar(sc, ax=ax, pad=0.1)\n",
    "cbar.set_label(r'$\\log M_{*}$')\n",
    "\n",
    "def update(frame):\n",
    "    ax.view_init(elev=frame, azim=frame)\n",
    "\n",
    "animation.FuncAnimation(fig, update, frames=np.arange(0, 360, 1), interval=1)\n"
   ]
  },
  {
   "cell_type": "code",
   "execution_count": null,
   "metadata": {},
   "outputs": [],
   "source": [
    "ani = animation.FuncAnimation(fig, update, frames=np.arange(0, 360, 1), interval=1)\n",
    "ani.save(\"plot1.gif\", fps=30)"
   ]
  },
  {
   "cell_type": "markdown",
   "metadata": {},
   "source": [
    "including connections"
   ]
  },
  {
   "cell_type": "code",
   "execution_count": null,
   "metadata": {},
   "outputs": [],
   "source": [
    "fig = plt.figure()\n",
    "ax = fig.add_subplot(111, projection='3d')\n",
    "\n",
    "sc = ax.scatter(coord[:, 1], coord[:, 2], coord[:, 3], c=cmap(norm), s=mass)\n",
    "ax.set_title(f'Rosette {r}\\nr < 10 Mpc')\n",
    "ax.axis('off')\n",
    "ax.grid(False)\n",
    "\n",
    "for edge in edges:\n",
    "    indices = np.where(coord[:, 0] == edge[0])[0]\n",
    "    x1, y1, z1 = coord[indices[0], 1:4]\n",
    "\n",
    "    indices = np.where(coord[:, 0] == edge[1])[0]\n",
    "    x2, y2, z2 = coord[indices[0], 1:4]\n",
    "\n",
    "    ax.plot([x1, x2], [y1, y2], [z1, z2], color='black', linewidth=0.1)\n",
    "\n",
    "cbar = plt.colorbar(sc, ax=ax, pad=0.1)\n",
    "cbar.set_label(r'$\\log M_{*}$')\n",
    "\n",
    "def update(frame):\n",
    "    ax.view_init(elev=frame, azim=frame)\n",
    "\n",
    "animation.FuncAnimation(fig, update, frames=np.arange(0, 360, 1), interval=1)"
   ]
  },
  {
   "cell_type": "code",
   "execution_count": null,
   "metadata": {},
   "outputs": [],
   "source": [
    "ani = animation.FuncAnimation(fig, update, frames=np.arange(0, 360, 1), interval=1)\n",
    "ani.save(\"plot2.gif\", fps=30)"
   ]
  }
 ],
 "metadata": {
  "kernelspec": {
   "display_name": "base",
   "language": "python",
   "name": "python3"
  },
  "language_info": {
   "codemirror_mode": {
    "name": "ipython",
    "version": 3
   },
   "file_extension": ".py",
   "mimetype": "text/x-python",
   "name": "python",
   "nbconvert_exporter": "python",
   "pygments_lexer": "ipython3",
   "version": "3.11.5"
  }
 },
 "nbformat": 4,
 "nbformat_minor": 2
}
