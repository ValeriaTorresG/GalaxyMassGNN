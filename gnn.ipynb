{
 "cells": [
  {
   "cell_type": "markdown",
   "metadata": {},
   "source": [
    "## Graph neural network (GNN)\n",
    "\n",
    "$$h_{i}^{t+1} = f\\left(h_{i}^{t} W + \\sum_{j \\in N (i)} \\frac{1}{C_{i,j}} h_{j}^{t} U \\right)$$\n",
    "\n",
    "Old representation times a weight matrix:\n",
    "$$h_{i}^{t} W $$\n",
    "\n",
    "Information from neighbors times a weight matrix:\n",
    "$$h_{j}^{t} U $$\n",
    "\n",
    "### Aggregation function:\n",
    "\n",
    "Sum over all transformed neighbor representations\n",
    "\n",
    "$$\\sum_{j \\in N (i)} \\frac{1}{C_{i,j}}$$\n",
    "\n",
    "Normalize the vectors differently for each neighbor\n",
    "$$\\frac{1}{C_{i,j}}$$\n",
    "\n",
    "The sum is a $permutation-invariant$ aggregation function -> Insensitive to $order$\n",
    "\n",
    "Each node's updated value becomes a weighting of its previous value+weightning of it's neighbors values.\n",
    "\n",
    "-> Agg function can be mean, max, concatenation, etc.\n",
    "\n",
    "\n",
    "\n",
    "Collapse $W_{self}$ and $W_{neigh}$ into $W$ by adding self-loops to the adjacency matrix $A$:\n",
    "$$H^{(k+1)} = \\sigma \\left( (A+I)H^{(k)} W^{k+1} \\right)$$"
   ]
  },
  {
   "cell_type": "code",
   "execution_count": 7,
   "metadata": {},
   "outputs": [],
   "source": [
    "import torch #tensors\n",
    "import torch.nn as nn #weight and bias\n",
    "import torch.nn.functional as F #activation functions\n",
    "from torch.optim import SGD\n",
    "from torch_geometric.data import Data #graph data structure\n",
    "from torch.optim import SGD\n",
    "\n",
    "import csv\n",
    "import pandas as pd\n",
    "from collections import defaultdict\n",
    "import numpy as np\n",
    "\n",
    "import seaborn as sb\n",
    "import matplotlib.pyplot as plt\n",
    "import matplotlib.cm as cm\n",
    "from matplotlib.cm import ScalarMappable"
   ]
  },
  {
   "cell_type": "markdown",
   "metadata": {},
   "source": [
    "### Graph data\n",
    "<div style=\"text-align:center; display: flex; justify-content: center;\">\n",
    "  <table>\n",
    "    <tr>\n",
    "      <th>Rosette number</th>\n",
    "      <th>Nodes</th>\n",
    "      <th>Edges</th>\n",
    "    </tr>\n",
    "    <tr>\n",
    "      <td>3</td>\n",
    "      <td>11157</td>\n",
    "      <td>7572</td>\n",
    "    </tr>\n",
    "    <tr>\n",
    "      <td>6</td>\n",
    "      <td>9568</td>\n",
    "      <td>5245</td>\n",
    "    </tr>\n",
    "    <tr>\n",
    "      <td>7</td>\n",
    "      <td>11635</td>\n",
    "      <td>9257</td>\n",
    "    </tr>\n",
    "    <tr>\n",
    "      <td>11</td>\n",
    "      <td>13667</td>\n",
    "      <td>13051</td>\n",
    "    </tr>\n",
    "    <tr>\n",
    "      <td>12</td>\n",
    "      <td>10617</td>\n",
    "      <td>6870</td>\n",
    "    </tr>\n",
    "    <tr>\n",
    "      <td>13</td>\n",
    "      <td>13260</td>\n",
    "      <td>14395</td>\n",
    "    </tr>\n",
    "    <tr>\n",
    "      <td>14</td>\n",
    "      <td>10704</td>\n",
    "      <td>7635</td>\n",
    "    </tr>\n",
    "    <tr>\n",
    "      <td>15</td>\n",
    "      <td>10131</td>\n",
    "      <td>8655</td>\n",
    "    </tr>\n",
    "    <tr>\n",
    "      <td>18</td>\n",
    "      <td>11117</td>\n",
    "      <td>7991</td>\n",
    "    </tr>\n",
    "    <tr>\n",
    "      <td>19</td>\n",
    "      <td>10248</td>\n",
    "      <td>6689</td>\n",
    "    </tr>\n",
    "  </table>\n",
    "</div>\n",
    "\n"
   ]
  },
  {
   "cell_type": "code",
   "execution_count": 8,
   "metadata": {},
   "outputs": [],
   "source": [
    "def graph_r(r):\n",
    "\n",
    "    nodes = []\n",
    "    edges = []\n",
    "    edges_distances = []\n",
    "\n",
    "    with open(f'./data/rosette{r}_nodes.csv', mode='r') as csv_file:\n",
    "        csv_reader = csv.DictReader(csv_file)\n",
    "        for row in csv_reader:\n",
    "            if (row!=0):\n",
    "                values = list(row.values())\n",
    "                n = []\n",
    "                n.append(float(values[0]))\n",
    "                n.extend(22.5-2.5*np.log10([float(n) for n in list(values)[1:]]))\n",
    "                n.append(float(values[-1]))\n",
    "                nodes.append(n)\n",
    "\n",
    "    with open(f'./data/rosette{r}_edges.csv', mode='r') as csv_file:\n",
    "        csv_reader = csv.DictReader(csv_file)\n",
    "        for row in csv_reader:\n",
    "            if (row!=0):\n",
    "                edges_distances.append([float(n) for n in list(row.values())])\n",
    "                edges.append([float(n) for n in list(row.values())][:2])\n",
    "\n",
    "    return (nodes,edges,edges_distances)"
   ]
  },
  {
   "cell_type": "code",
   "execution_count": 10,
   "metadata": {},
   "outputs": [],
   "source": [
    "rosettes = [3,6,7,11,12,13,14,15,18,19]"
   ]
  },
  {
   "cell_type": "code",
   "execution_count": 11,
   "metadata": {},
   "outputs": [],
   "source": [
    "nodes, edges, distances = graph_r(rosettes[0])\n",
    "\n",
    "node_features = torch.tensor(nodes, dtype=torch.float)\n",
    "edge_index = torch.tensor(edges, dtype=torch.long).t().contiguous()\n",
    "\n",
    "graph = Data(x=node_features, edge_index=edge_index)\n",
    "graph.num_nodes = len(nodes)\n",
    "graph.num_edges = len(edges)"
   ]
  },
  {
   "cell_type": "code",
   "execution_count": 12,
   "metadata": {},
   "outputs": [
    {
     "data": {
      "text/plain": [
       "Data(x=[11157, 9], edge_index=[2, 7572], num_nodes=11157, num_edges=7572)"
      ]
     },
     "execution_count": 12,
     "metadata": {},
     "output_type": "execute_result"
    }
   ],
   "source": [
    "graph"
   ]
  },
  {
   "cell_type": "code",
   "execution_count": 7,
   "metadata": {},
   "outputs": [],
   "source": [
    "class GNN(nn.Module):\n",
    "    def __init__(self, input_dim, hidden_dim, output_dim):\n",
    "        super(SimpleGNN, self).__init__()\n",
    "        self.conv1 = nn.GCNConv(input_dim, hidden_dim)\n",
    "        self.conv2 = nn.GCNConv(hidden_dim, output_dim)\n",
    "\n",
    "    def forward(self, data):\n",
    "        x, edge_index = data.x, data.edge_index\n",
    "\n",
    "        x = self.conv1(x, edge_index)\n",
    "        x = torch.relu(x)\n",
    "        x = self.conv2(x, edge_index)\n",
    "\n",
    "        return x"
   ]
  },
  {
   "cell_type": "code",
   "execution_count": null,
   "metadata": {},
   "outputs": [],
   "source": []
  }
 ],
 "metadata": {
  "kernelspec": {
   "display_name": "base",
   "language": "python",
   "name": "python3"
  },
  "language_info": {
   "codemirror_mode": {
    "name": "ipython",
    "version": 3
   },
   "file_extension": ".py",
   "mimetype": "text/x-python",
   "name": "python",
   "nbconvert_exporter": "python",
   "pygments_lexer": "ipython3",
   "version": "3.11.5"
  },
  "orig_nbformat": 4
 },
 "nbformat": 4,
 "nbformat_minor": 2
}
