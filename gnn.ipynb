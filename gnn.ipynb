{
 "cells": [
  {
   "cell_type": "markdown",
   "metadata": {},
   "source": [
    "## Graph neural network (GNN)\n",
    "\n",
    "$$h_{i}^{t+1} = f\\left(h_{i}^{t} W + \\sum_{j \\in N (i)} \\frac{1}{C_{i,j}} h_{j}^{t} U \\right)$$\n",
    "\n",
    "Old representation times a weight matrix:\n",
    "$$h_{i}^{t} W $$\n",
    "\n",
    "Information from neighbors times a weight matrix:\n",
    "$$h_{j}^{t} U $$\n",
    "\n",
    "### Aggregation function:\n",
    "\n",
    "Sum over all transformed neighbor representations\n",
    "\n",
    "$$\\sum_{j \\in N (i)} \\frac{1}{C_{i,j}}$$\n",
    "\n",
    "Normalize the vectors differently for each neighbor\n",
    "$$\\frac{1}{C_{i,j}}$$\n",
    "\n",
    "The sum is a $permutation-invariant$ aggregation function -> Insensitive to $order$\n",
    "\n",
    "Each node's updated value becomes a weighting of its previous value+weightning of it's neighbors values.\n",
    "\n",
    "-> Agg function can be mean, max, concatenation, etc.\n",
    "\n",
    "\n",
    "\n",
    "Collapse $W_{self}$ and $W_{neigh}$ into $W$ by adding self-loops to the adjacency matrix $A$:\n",
    "$$H^{(k+1)} = \\sigma \\left( (A+I)H^{(k)} W^{k+1} \\right)$$"
   ]
  }
 ],
 "metadata": {
  "language_info": {
   "name": "python"
  },
  "orig_nbformat": 4
 },
 "nbformat": 4,
 "nbformat_minor": 2
}
