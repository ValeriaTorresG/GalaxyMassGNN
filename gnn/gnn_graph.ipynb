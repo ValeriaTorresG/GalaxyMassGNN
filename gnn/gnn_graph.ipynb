{
  "cells": [
    {
      "cell_type": "markdown",
      "metadata": {
        "id": "RSiWl23zfEHH"
      },
      "source": [
        "### Graph Neural Network (GNN)\n",
        "\n",
        "$$h_{i}^{t+1} = f\\left(h_{i}^{t} W + \\sum_{j \\in N (i)} \\frac{1}{C_{i,j}} h_{j}^{t} U \\right)$$\n",
        "\n",
        "Old representation times a weight matrix:\n",
        "$$h_{i}^{t} W $$\n",
        "\n",
        "Information from neighbors times a weight matrix:\n",
        "$$h_{j}^{t} U $$\n",
        "\n",
        "### Aggregation function:\n",
        "\n",
        "Sum over all transformed neighbor representations\n",
        "\n",
        "$$\\sum_{j \\in N (i)} \\frac{1}{C_{i,j}}$$\n",
        "\n",
        "Normalize the vectors differently for each neighbor\n",
        "$$\\frac{1}{C_{i,j}}$$\n",
        "\n",
        "The sum is a $permutation-invariant$ aggregation function -> Insensitive to $order$\n",
        "\n",
        "Each node's updated value becomes a weighting of its previous value+weightning of it's neighbors values.\n",
        "\n",
        "-> Agg function can be mean, max, concatenation, etc.\n",
        "\n",
        "\n",
        "\n",
        "Collapse $W_{self}$ and $W_{neigh}$ into $W$ by adding self-loops to the adjacency matrix $A$:\n",
        "$$H^{(k+1)} = \\sigma \\left( (A+I)H^{(k)} W^{k+1} \\right)$$"
      ]
    },
    {
      "cell_type": "code",
      "source": [
        "!pip install torch\n",
        "!pip install torch-geometric\n",
        "!pip install torchviz"
      ],
      "metadata": {
        "colab": {
          "base_uri": "https://localhost:8080/"
        },
        "id": "eozxwGVMbj_Z",
        "outputId": "ccc5d16b-6dbf-4f9f-95af-638256438475"
      },
      "execution_count": null,
      "outputs": [
        {
          "output_type": "stream",
          "name": "stdout",
          "text": [
            "Requirement already satisfied: torch in /usr/local/lib/python3.10/dist-packages (2.1.0+cu118)\n",
            "Requirement already satisfied: filelock in /usr/local/lib/python3.10/dist-packages (from torch) (3.13.1)\n",
            "Requirement already satisfied: typing-extensions in /usr/local/lib/python3.10/dist-packages (from torch) (4.5.0)\n",
            "Requirement already satisfied: sympy in /usr/local/lib/python3.10/dist-packages (from torch) (1.12)\n",
            "Requirement already satisfied: networkx in /usr/local/lib/python3.10/dist-packages (from torch) (3.2.1)\n",
            "Requirement already satisfied: jinja2 in /usr/local/lib/python3.10/dist-packages (from torch) (3.1.2)\n",
            "Requirement already satisfied: fsspec in /usr/local/lib/python3.10/dist-packages (from torch) (2023.6.0)\n",
            "Requirement already satisfied: triton==2.1.0 in /usr/local/lib/python3.10/dist-packages (from torch) (2.1.0)\n",
            "Requirement already satisfied: MarkupSafe>=2.0 in /usr/local/lib/python3.10/dist-packages (from jinja2->torch) (2.1.3)\n",
            "Requirement already satisfied: mpmath>=0.19 in /usr/local/lib/python3.10/dist-packages (from sympy->torch) (1.3.0)\n",
            "Requirement already satisfied: torch-geometric in /usr/local/lib/python3.10/dist-packages (2.4.0)\n",
            "Requirement already satisfied: tqdm in /usr/local/lib/python3.10/dist-packages (from torch-geometric) (4.66.1)\n",
            "Requirement already satisfied: numpy in /usr/local/lib/python3.10/dist-packages (from torch-geometric) (1.23.5)\n",
            "Requirement already satisfied: scipy in /usr/local/lib/python3.10/dist-packages (from torch-geometric) (1.11.4)\n",
            "Requirement already satisfied: jinja2 in /usr/local/lib/python3.10/dist-packages (from torch-geometric) (3.1.2)\n",
            "Requirement already satisfied: requests in /usr/local/lib/python3.10/dist-packages (from torch-geometric) (2.31.0)\n",
            "Requirement already satisfied: pyparsing in /usr/local/lib/python3.10/dist-packages (from torch-geometric) (3.1.1)\n",
            "Requirement already satisfied: scikit-learn in /usr/local/lib/python3.10/dist-packages (from torch-geometric) (1.2.2)\n",
            "Requirement already satisfied: psutil>=5.8.0 in /usr/local/lib/python3.10/dist-packages (from torch-geometric) (5.9.5)\n",
            "Requirement already satisfied: MarkupSafe>=2.0 in /usr/local/lib/python3.10/dist-packages (from jinja2->torch-geometric) (2.1.3)\n",
            "Requirement already satisfied: charset-normalizer<4,>=2 in /usr/local/lib/python3.10/dist-packages (from requests->torch-geometric) (3.3.2)\n",
            "Requirement already satisfied: idna<4,>=2.5 in /usr/local/lib/python3.10/dist-packages (from requests->torch-geometric) (3.6)\n",
            "Requirement already satisfied: urllib3<3,>=1.21.1 in /usr/local/lib/python3.10/dist-packages (from requests->torch-geometric) (2.0.7)\n",
            "Requirement already satisfied: certifi>=2017.4.17 in /usr/local/lib/python3.10/dist-packages (from requests->torch-geometric) (2023.11.17)\n",
            "Requirement already satisfied: joblib>=1.1.1 in /usr/local/lib/python3.10/dist-packages (from scikit-learn->torch-geometric) (1.3.2)\n",
            "Requirement already satisfied: threadpoolctl>=2.0.0 in /usr/local/lib/python3.10/dist-packages (from scikit-learn->torch-geometric) (3.2.0)\n",
            "Requirement already satisfied: torchviz in /usr/local/lib/python3.10/dist-packages (0.0.2)\n",
            "Requirement already satisfied: torch in /usr/local/lib/python3.10/dist-packages (from torchviz) (2.1.0+cu118)\n",
            "Requirement already satisfied: graphviz in /usr/local/lib/python3.10/dist-packages (from torchviz) (0.20.1)\n",
            "Requirement already satisfied: filelock in /usr/local/lib/python3.10/dist-packages (from torch->torchviz) (3.13.1)\n",
            "Requirement already satisfied: typing-extensions in /usr/local/lib/python3.10/dist-packages (from torch->torchviz) (4.5.0)\n",
            "Requirement already satisfied: sympy in /usr/local/lib/python3.10/dist-packages (from torch->torchviz) (1.12)\n",
            "Requirement already satisfied: networkx in /usr/local/lib/python3.10/dist-packages (from torch->torchviz) (3.2.1)\n",
            "Requirement already satisfied: jinja2 in /usr/local/lib/python3.10/dist-packages (from torch->torchviz) (3.1.2)\n",
            "Requirement already satisfied: fsspec in /usr/local/lib/python3.10/dist-packages (from torch->torchviz) (2023.6.0)\n",
            "Requirement already satisfied: triton==2.1.0 in /usr/local/lib/python3.10/dist-packages (from torch->torchviz) (2.1.0)\n",
            "Requirement already satisfied: MarkupSafe>=2.0 in /usr/local/lib/python3.10/dist-packages (from jinja2->torch->torchviz) (2.1.3)\n",
            "Requirement already satisfied: mpmath>=0.19 in /usr/local/lib/python3.10/dist-packages (from sympy->torch->torchviz) (1.3.0)\n"
          ]
        }
      ]
    },
    {
      "cell_type": "code",
      "execution_count": null,
      "metadata": {
        "id": "0ZLPe2lKfEHL"
      },
      "outputs": [],
      "source": [
        "import torch\n",
        "import torch.nn as nn\n",
        "import torch.nn.functional as F\n",
        "from torch.optim import SGD\n",
        "from torch_geometric.data import Data\n",
        "from torch_geometric.nn import GCNConv, Linear, GATConv\n",
        "\n",
        "import torch_geometric.transforms as T\n",
        "from torch_geometric.utils import to_undirected\n",
        "from torchviz import make_dot\n",
        "\n",
        "import networkx as nx\n",
        "from networkx.classes.function import density, degree\n",
        "from scipy.stats import pearsonr\n",
        "\n",
        "import csv\n",
        "import numpy as np\n",
        "import matplotlib.pyplot as plt\n",
        "plt.rcParams['figure.dpi'] = 360"
      ]
    },
    {
      "cell_type": "markdown",
      "metadata": {
        "id": "n4I-_wwhfEHM"
      },
      "source": [
        "### Graph dataset\n",
        "<div style=\"text-align:center; display: flex; justify-content: center;\">\n",
        "  <table>\n",
        "    <tr>\n",
        "      <th>Rosette number</th>\n",
        "      <th>Nodes</th>\n",
        "      <th>Edges</th>\n",
        "    </tr>\n",
        "    <tr>\n",
        "      <td>3</td>\n",
        "      <td>11157</td>\n",
        "      <td>7572</td>\n",
        "    </tr>\n",
        "    <tr>\n",
        "      <td>6</td>\n",
        "      <td>9568</td>\n",
        "      <td>5245</td>\n",
        "    </tr>\n",
        "    <tr>\n",
        "      <td>7</td>\n",
        "      <td>11635</td>\n",
        "      <td>9257</td>\n",
        "    </tr>\n",
        "    <tr>\n",
        "      <td>11</td>\n",
        "      <td>13667</td>\n",
        "      <td>13051</td>\n",
        "    </tr>\n",
        "    <tr>\n",
        "      <td>12</td>\n",
        "      <td>10617</td>\n",
        "      <td>6870</td>\n",
        "    </tr>\n",
        "    <tr>\n",
        "      <td>13</td>\n",
        "      <td>13260</td>\n",
        "      <td>14395</td>\n",
        "    </tr>\n",
        "    <tr>\n",
        "      <td>14</td>\n",
        "      <td>10704</td>\n",
        "      <td>7635</td>\n",
        "    </tr>\n",
        "    <tr>\n",
        "      <td>15</td>\n",
        "      <td>10131</td>\n",
        "      <td>8655</td>\n",
        "    </tr>\n",
        "    <tr>\n",
        "      <td>18</td>\n",
        "      <td>11117</td>\n",
        "      <td>7991</td>\n",
        "    </tr>\n",
        "    <tr>\n",
        "      <td>19</td>\n",
        "      <td>10248</td>\n",
        "      <td>6689</td>\n",
        "    </tr>\n",
        "  </table>\n",
        "</div>\n",
        "\n"
      ]
    },
    {
      "cell_type": "code",
      "execution_count": null,
      "metadata": {
        "id": "yDmRpxSTfEHN"
      },
      "outputs": [],
      "source": [
        "def graph_r(r):\n",
        "\n",
        "    nodes = []\n",
        "    edges = []\n",
        "    mass = []\n",
        "\n",
        "    with open(f'/data/rosette{r}_nodes.csv', mode='r') as csv_file:\n",
        "        csv_reader = csv.DictReader(csv_file)\n",
        "        for row in csv_reader:\n",
        "            if (row!=0):\n",
        "                values = list(row.values())\n",
        "                n = []\n",
        "                n.append(float(values[0]))\n",
        "                n.extend(22.5-2.5*np.log10([float(n) for n in values[2:-1]]))\n",
        "                n.append(float(values[-1]))\n",
        "                nodes.append(n)\n",
        "                mass.append(float(values[1]))\n",
        "\n",
        "    with open(f'/data/rosette{r}_edges.csv', mode='r') as csv_file:\n",
        "        csv_reader = csv.DictReader(csv_file)\n",
        "        for row in csv_reader:\n",
        "            if (row!=0):\n",
        "                edges.append([float(n) for n in list(row.values())])\n",
        "\n",
        "    return (nodes,edges,mass)"
      ]
    },
    {
      "cell_type": "code",
      "execution_count": null,
      "metadata": {
        "id": "F3qNXVK_fEHN"
      },
      "outputs": [],
      "source": [
        "rosettes = [3,6,7,11,12,13,14,15,18,19]\n",
        "props = ['log flux_g','log flux_r','log flux_z','log flux_w1','log flux_w2','z']"
      ]
    },
    {
      "cell_type": "code",
      "execution_count": null,
      "metadata": {
        "id": "1C-aR6eAfEHO"
      },
      "outputs": [],
      "source": [
        "g = []\n",
        "masses = []\n",
        "for r in rosettes[:2]:\n",
        "  nodes, edges, mass = graph_r(r)\n",
        "  masses.append(mass)\n",
        "  graph = nx.Graph()\n",
        "  for i in range(len(nodes)):\n",
        "      graph.add_node(i, attr=nodes[i][1:])\n",
        "\n",
        "  id_to_position = {node[0]: i for i, node in enumerate(nodes)}\n",
        "  mapped_edges = [[id_to_position[edge[0]], id_to_position[edge[1]], edge[2]] for edge in edges]\n",
        "  for edge in mapped_edges:\n",
        "      graph.add_edge(edge[0], edge[1], weight=edge[2])\n",
        "\n",
        "  graph = graph.to_undirected()\n",
        "  g.append(graph)"
      ]
    },
    {
      "cell_type": "code",
      "execution_count": null,
      "metadata": {
        "colab": {
          "base_uri": "https://localhost:8080/"
        },
        "id": "LieAivN1fEHO",
        "outputId": "5674f913-6d8a-483e-e789-c7b5dc064a25"
      },
      "outputs": [
        {
          "output_type": "stream",
          "name": "stdout",
          "text": [
            "Number of nodes: 9568\n",
            "Number of edges: 4836\n",
            "Directed: False\n",
            "Multigraph: False\n",
            "Average degree: 1.011\n",
            "Max degree: 14\n",
            "Min degree: 0\n",
            "Density: 0.00011\n"
          ]
        }
      ],
      "source": [
        "def graph_info(graph):\n",
        "  print(f'Number of nodes: {graph.number_of_nodes()}')\n",
        "  print(f'Number of edges: {graph.number_of_edges()}')\n",
        "  print(f'Directed: {graph.is_directed()}')\n",
        "  print(f'Multigraph: {graph.is_multigraph()}')\n",
        "  print(f'Average degree: {np.mean(np.array(degree(graph))[:,1]):.3f}')\n",
        "  print(f'Max degree: {max(np.array(degree(graph))[:,1])}')\n",
        "  print(f'Min degree: {min(np.array(degree(graph))[:,1])}')\n",
        "  print(f'Density: {density(graph):.5f}')\n",
        "\n",
        "graph_info(g[1])"
      ]
    },
    {
      "cell_type": "code",
      "execution_count": null,
      "metadata": {
        "id": "SCWvcWC1fEHP"
      },
      "outputs": [],
      "source": [
        "graphs = []\n",
        "for gr in g:\n",
        "  edge_index = torch.tensor(list(gr.edges), dtype=torch.long).t().contiguous()\n",
        "  edge_attr = torch.tensor([[gr[u][v]['weight']] for u, v in gr.edges], dtype=torch.float)\n",
        "  x = torch.tensor([gr.nodes[i]['attr'] for i in range(len(gr.nodes))], dtype=torch.float)\n",
        "  x = F.normalize(x, dim=0)\n",
        "  mass = torch.tensor([masses[g.index(gr)][i] for i in range(len(gr.nodes))], dtype=torch.float)\n",
        "\n",
        "  num_nodes = gr.number_of_nodes()\n",
        "  train_percentage = 0.8\n",
        "  train_mask = torch.zeros(num_nodes, dtype=torch.bool)\n",
        "  num_train_nodes = int(num_nodes*train_percentage)\n",
        "  train_mask[:num_train_nodes] = True\n",
        "  test_mask = ~train_mask\n",
        "\n",
        "  graph = Data(x=x, edge_index=edge_index, edge_attr=edge_attr, y=mass, train_mask=train_mask, test_mask=test_mask)\n",
        "  graphs.append(graph)"
      ]
    },
    {
      "cell_type": "code",
      "execution_count": null,
      "metadata": {
        "colab": {
          "base_uri": "https://localhost:8080/"
        },
        "id": "SkyUFicwfEHQ",
        "outputId": "e4b9789a-093f-4906-ac4a-60151886feb9"
      },
      "outputs": [
        {
          "output_type": "stream",
          "name": "stdout",
          "text": [
            "Number of training nodes: 7654\n",
            "Number of testing nodes: 1914\n",
            "Has isolated nodes: True\n",
            "Training node label rate: 0.80\n"
          ]
        }
      ],
      "source": [
        "print(f'Number of training nodes: {graph.train_mask.sum()}')\n",
        "print(f'Number of testing nodes: {graph.test_mask.sum()}')\n",
        "print(f'Has isolated nodes: {graph.has_isolated_nodes()}')\n",
        "print(f'Training node label rate: {int(graph.train_mask.sum()) / graph.num_nodes:.2f}')\n",
        "#graph.validate(raise_on_error=True)"
      ]
    },
    {
      "cell_type": "markdown",
      "metadata": {
        "id": "EnwdrQRffEHR"
      },
      "source": [
        "### GNN Model"
      ]
    },
    {
      "cell_type": "code",
      "execution_count": null,
      "metadata": {
        "id": "iPY70icbfEHR"
      },
      "outputs": [],
      "source": [
        "class GNN(nn.Module):\n",
        "    def __init__(self, input_dim, hidden_dim, output_dim, num_layers, dropout_rate=0.5):\n",
        "        super(GNN, self).__init__()\n",
        "\n",
        "        self.conv1 = GCNConv(input_dim, hidden_dim)\n",
        "        self.bn1 = nn.BatchNorm1d(hidden_dim)\n",
        "        self.convs = nn.ModuleList([GCNConv(hidden_dim, hidden_dim) for _ in range(num_layers)])\n",
        "        self.bn_layers = nn.ModuleList([nn.BatchNorm1d(hidden_dim) for _ in range(num_layers)])\n",
        "        self.conv_out = GCNConv(hidden_dim, output_dim)\n",
        "        self.dropout = dropout_rate\n",
        "\n",
        "    def forward(self, data):\n",
        "        x, edge_index, edge_attr = data.x, data.edge_index, data.edge_attr\n",
        "        x = F.relu(self.conv1(x, edge_index, edge_attr))\n",
        "        x = self.bn1(x)\n",
        "        x = F.dropout(x, p=self.dropout, training=self.training)\n",
        "\n",
        "        for conv, bn in zip(self.convs, self.bn_layers):\n",
        "            x = F.relu(conv(x, edge_index, edge_attr))\n",
        "            x = bn(x)\n",
        "            x = F.dropout(x, p=self.dropout, training=self.training)\n",
        "\n",
        "        x = self.conv_out(x, edge_index, edge_attr)\n",
        "\n",
        "        return x"
      ]
    },
    {
      "cell_type": "code",
      "execution_count": null,
      "metadata": {
        "colab": {
          "base_uri": "https://localhost:8080/"
        },
        "id": "ebKc_DwzfEHR",
        "outputId": "3a02acfc-a17e-4a15-bae6-574f53bd1e9d"
      },
      "outputs": [
        {
          "output_type": "stream",
          "name": "stdout",
          "text": [
            "GNN(\n",
            "  (conv1): GCNConv(6, 64)\n",
            "  (bn1): BatchNorm1d(64, eps=1e-05, momentum=0.1, affine=True, track_running_stats=True)\n",
            "  (convs): ModuleList(\n",
            "    (0-2): 3 x GCNConv(64, 64)\n",
            "  )\n",
            "  (bn_layers): ModuleList(\n",
            "    (0-2): 3 x BatchNorm1d(64, eps=1e-05, momentum=0.1, affine=True, track_running_stats=True)\n",
            "  )\n",
            "  (conv_out): GCNConv(64, 1)\n",
            ")\n",
            "Parameters: 13505\n"
          ]
        }
      ],
      "source": [
        "input_dim, hidden_dim, output_dim, num_layers = 6, 64, 1, 3\n",
        "model = GNN(input_dim, hidden_dim, output_dim, num_layers, dropout_rate=0.5)\n",
        "\n",
        "print(model)\n",
        "print(f'Parameters: {sum(p.numel() for p in model.parameters())}')\n",
        "tcv = make_dot(model(graphs[0]), params=dict(list(model.named_parameters()))).render(\"./torchviz/gnn_torchviz\", format=\"png\")"
      ]
    },
    {
      "cell_type": "markdown",
      "metadata": {
        "id": "ITLGya-LfEHS"
      },
      "source": [
        "Move to GPU (if available)"
      ]
    },
    {
      "cell_type": "code",
      "execution_count": null,
      "metadata": {
        "colab": {
          "base_uri": "https://localhost:8080/"
        },
        "id": "6XBNH3-jfEHS",
        "outputId": "e2d07323-84f8-4574-fa29-697c20b1598d"
      },
      "outputs": [
        {
          "output_type": "execute_result",
          "data": {
            "text/plain": [
              "device(type='cuda', index=0)"
            ]
          },
          "metadata": {},
          "execution_count": 101
        }
      ],
      "source": [
        "device = torch.device(\"cuda:0\" if torch.cuda.is_available() else \"cpu\")\n",
        "model = model.to(device)\n",
        "graph = []\n",
        "for g in graphs:\n",
        "  g = g.to(device)\n",
        "  graph.append(g)\n",
        "device"
      ]
    },
    {
      "cell_type": "markdown",
      "metadata": {
        "id": "6n6PyU9YfEHS"
      },
      "source": [
        "Optimizer: Stochastic gradient descent\n",
        "\n",
        "Loss function: Mean squared error"
      ]
    },
    {
      "cell_type": "code",
      "execution_count": null,
      "metadata": {
        "id": "RT-DMN13fEHS"
      },
      "outputs": [],
      "source": [
        "optimizer = SGD(model.parameters(), lr=0.01, momentum=0.9, weight_decay=1e-4)\n",
        "criterion = nn.MSELoss()"
      ]
    },
    {
      "cell_type": "markdown",
      "metadata": {
        "id": "pUZM13ZJfEHS"
      },
      "source": [
        "### Training"
      ]
    },
    {
      "cell_type": "code",
      "execution_count": null,
      "metadata": {
        "id": "YlbALIy2fEHS"
      },
      "outputs": [],
      "source": [
        "def train(num_epochs):\n",
        "      l, c = [], []\n",
        "\n",
        "      for epoch in range(num_epochs):\n",
        "          for g in graph:\n",
        "              model.train()\n",
        "              optimizer.zero_grad()\n",
        "              out = model(g)\n",
        "              train_mask, test_mask = g.train_mask, g.test_mask\n",
        "\n",
        "              loss = criterion(out[train_mask].squeeze(), g.y[train_mask])\n",
        "              loss.backward()\n",
        "              optimizer.step()\n",
        "\n",
        "              model.eval()\n",
        "              with torch.no_grad():\n",
        "                    pred = model(g).squeeze()\n",
        "                    mse = criterion(pred[test_mask].squeeze(), g.y[test_mask])\n",
        "                    pc = pearsonr(pred[test_mask].squeeze().cpu(), g.y[test_mask].cpu())\n",
        "                    accuracy = torch.abs(pred - g.y).mean()\n",
        "                    l.append(mse)\n",
        "                    c.append(pc)\n",
        "\n",
        "              if epoch%1==0:\n",
        "                    print(f'Epoch {epoch}, Loss: {loss.item():.4f}, MSE: {mse.item():.4f}, PC: {pc.statistic:.4f}') #, Accuracy: {accuracy.item():.4f}')\n",
        "      return l, c, pred"
      ]
    },
    {
      "cell_type": "code",
      "execution_count": null,
      "metadata": {
        "colab": {
          "base_uri": "https://localhost:8080/",
          "height": 363
        },
        "id": "vuER3ncqfEHS",
        "outputId": "58119541-74b6-4098-b500-b910c1ed3d5c"
      },
      "outputs": [
        {
          "output_type": "error",
          "ename": "ValueError",
          "evalue": "ignored",
          "traceback": [
            "\u001b[0;31m---------------------------------------------------------------------------\u001b[0m",
            "\u001b[0;31mValueError\u001b[0m                                Traceback (most recent call last)",
            "\u001b[0;32m<ipython-input-133-b8397c0569ed>\u001b[0m in \u001b[0;36m<cell line: 31>\u001b[0;34m()\u001b[0m\n\u001b[1;32m     29\u001b[0m     \u001b[0;32mreturn\u001b[0m \u001b[0ml\u001b[0m\u001b[0;34m,\u001b[0m \u001b[0mc\u001b[0m\u001b[0;34m,\u001b[0m \u001b[0mpred\u001b[0m\u001b[0;34m\u001b[0m\u001b[0;34m\u001b[0m\u001b[0m\n\u001b[1;32m     30\u001b[0m \u001b[0;34m\u001b[0m\u001b[0m\n\u001b[0;32m---> 31\u001b[0;31m \u001b[0mlosses\u001b[0m\u001b[0;34m,\u001b[0m \u001b[0mpcs\u001b[0m\u001b[0;34m,\u001b[0m \u001b[0mpred\u001b[0m \u001b[0;34m=\u001b[0m \u001b[0mtrain\u001b[0m\u001b[0;34m(\u001b[0m\u001b[0;36m100\u001b[0m\u001b[0;34m)\u001b[0m\u001b[0;34m\u001b[0m\u001b[0;34m\u001b[0m\u001b[0m\n\u001b[0m",
            "\u001b[0;32m<ipython-input-133-b8397c0569ed>\u001b[0m in \u001b[0;36mtrain\u001b[0;34m(num_epochs)\u001b[0m\n\u001b[1;32m     20\u001b[0m                 \u001b[0;31m# Filter out invalid values before computing Pearson correlation\u001b[0m\u001b[0;34m\u001b[0m\u001b[0;34m\u001b[0m\u001b[0m\n\u001b[1;32m     21\u001b[0m                 \u001b[0mvalid_mask\u001b[0m \u001b[0;34m=\u001b[0m \u001b[0mtorch\u001b[0m\u001b[0;34m.\u001b[0m\u001b[0misfinite\u001b[0m\u001b[0;34m(\u001b[0m\u001b[0mpred\u001b[0m\u001b[0;34m)\u001b[0m \u001b[0;34m&\u001b[0m \u001b[0mtorch\u001b[0m\u001b[0;34m.\u001b[0m\u001b[0misfinite\u001b[0m\u001b[0;34m(\u001b[0m\u001b[0mg\u001b[0m\u001b[0;34m.\u001b[0m\u001b[0my\u001b[0m\u001b[0;34m)\u001b[0m\u001b[0;34m\u001b[0m\u001b[0;34m\u001b[0m\u001b[0m\n\u001b[0;32m---> 22\u001b[0;31m                 \u001b[0mpc\u001b[0m \u001b[0;34m=\u001b[0m \u001b[0mpearsonr\u001b[0m\u001b[0;34m(\u001b[0m\u001b[0mpred\u001b[0m\u001b[0;34m[\u001b[0m\u001b[0mvalid_mask\u001b[0m\u001b[0;34m]\u001b[0m\u001b[0;34m.\u001b[0m\u001b[0mcpu\u001b[0m\u001b[0;34m(\u001b[0m\u001b[0;34m)\u001b[0m\u001b[0;34m,\u001b[0m \u001b[0mg\u001b[0m\u001b[0;34m.\u001b[0m\u001b[0my\u001b[0m\u001b[0;34m[\u001b[0m\u001b[0mvalid_mask\u001b[0m\u001b[0;34m]\u001b[0m\u001b[0;34m.\u001b[0m\u001b[0mcpu\u001b[0m\u001b[0;34m(\u001b[0m\u001b[0;34m)\u001b[0m\u001b[0;34m)\u001b[0m\u001b[0;34m\u001b[0m\u001b[0;34m\u001b[0m\u001b[0m\n\u001b[0m\u001b[1;32m     23\u001b[0m                 \u001b[0maccuracy\u001b[0m \u001b[0;34m=\u001b[0m \u001b[0mtorch\u001b[0m\u001b[0;34m.\u001b[0m\u001b[0mabs\u001b[0m\u001b[0;34m(\u001b[0m\u001b[0mpred\u001b[0m \u001b[0;34m-\u001b[0m \u001b[0mg\u001b[0m\u001b[0;34m.\u001b[0m\u001b[0my\u001b[0m\u001b[0;34m)\u001b[0m\u001b[0;34m.\u001b[0m\u001b[0mmean\u001b[0m\u001b[0;34m(\u001b[0m\u001b[0;34m)\u001b[0m\u001b[0;34m\u001b[0m\u001b[0;34m\u001b[0m\u001b[0m\n\u001b[1;32m     24\u001b[0m                 \u001b[0ml\u001b[0m\u001b[0;34m.\u001b[0m\u001b[0mappend\u001b[0m\u001b[0;34m(\u001b[0m\u001b[0mmse\u001b[0m\u001b[0;34m)\u001b[0m\u001b[0;34m\u001b[0m\u001b[0;34m\u001b[0m\u001b[0m\n",
            "\u001b[0;32m/usr/local/lib/python3.10/dist-packages/scipy/stats/_stats_py.py\u001b[0m in \u001b[0;36mpearsonr\u001b[0;34m(x, y, alternative, method)\u001b[0m\n\u001b[1;32m   4766\u001b[0m \u001b[0;34m\u001b[0m\u001b[0m\n\u001b[1;32m   4767\u001b[0m     \u001b[0;32mif\u001b[0m \u001b[0mn\u001b[0m \u001b[0;34m<\u001b[0m \u001b[0;36m2\u001b[0m\u001b[0;34m:\u001b[0m\u001b[0;34m\u001b[0m\u001b[0;34m\u001b[0m\u001b[0m\n\u001b[0;32m-> 4768\u001b[0;31m         \u001b[0;32mraise\u001b[0m \u001b[0mValueError\u001b[0m\u001b[0;34m(\u001b[0m\u001b[0;34m'x and y must have length at least 2.'\u001b[0m\u001b[0;34m)\u001b[0m\u001b[0;34m\u001b[0m\u001b[0;34m\u001b[0m\u001b[0m\n\u001b[0m\u001b[1;32m   4769\u001b[0m \u001b[0;34m\u001b[0m\u001b[0m\n\u001b[1;32m   4770\u001b[0m     \u001b[0mx\u001b[0m \u001b[0;34m=\u001b[0m \u001b[0mnp\u001b[0m\u001b[0;34m.\u001b[0m\u001b[0masarray\u001b[0m\u001b[0;34m(\u001b[0m\u001b[0mx\u001b[0m\u001b[0;34m)\u001b[0m\u001b[0;34m\u001b[0m\u001b[0;34m\u001b[0m\u001b[0m\n",
            "\u001b[0;31mValueError\u001b[0m: x and y must have length at least 2."
          ]
        }
      ],
      "source": [
        "losses, pcs, pred = train(100)"
      ]
    },
    {
      "cell_type": "code",
      "execution_count": null,
      "metadata": {
        "id": "w355TW9MfEHT"
      },
      "outputs": [],
      "source": [
        "losses_float = [float(loss.cpu().detach().numpy()) for loss in losses]\n",
        "loss_indices = [i for i,l in enumerate(losses_float)]\n",
        "plt.scatter(loss_indices, losses_float, s=0.8)\n",
        "plt.title('Loss function (mean squared error)')\n",
        "plt.xlabel('Epoch')\n",
        "plt.ylabel('Loss')\n",
        "plt.show()"
      ]
    },
    {
      "cell_type": "code",
      "source": [
        "indices = [i for i,l in enumerate(pcs)]\n",
        "corr = [pc.statistic for pc in pcs]\n",
        "plt.scatter(indices, corr, s=0.8)\n",
        "plt.title('Pearson correlation')\n",
        "plt.xlabel('Epoch')\n",
        "plt.ylabel('Correlation')\n",
        "plt.show()"
      ],
      "metadata": {
        "id": "QspWzfyYmrSL"
      },
      "execution_count": null,
      "outputs": []
    },
    {
      "cell_type": "markdown",
      "metadata": {
        "id": "p_wBYBV4fEHT"
      },
      "source": [
        "### Testing"
      ]
    },
    {
      "cell_type": "code",
      "execution_count": null,
      "metadata": {
        "id": "QIBV3YY3fEHT"
      },
      "outputs": [],
      "source": [
        "nrows, ncols = 3, 2\n",
        "fig, axes = plt.subplots(nrows=2, ncols=3, figsize=(10, 8))\n",
        "plt.tight_layout()\n",
        "plt.suptitle(f'GNN model\\nmse: {losses[-1]:.4f}', y=1.05)\n",
        "plt.subplots_adjust(wspace=0.3, hspace=0.3)\n",
        "cmap = plt.get_cmap('viridis')\n",
        "\n",
        "pred = pred.to('cpu')\n",
        "nodes, _, mass = graph_r(rosettes[0])\n",
        "nodes = np.array(nodes)[:,1:]\n",
        "\n",
        "for i in range(ncols):\n",
        "    for j in range(nrows):\n",
        "        axes[i, j].scatter(nodes[:,i*3+j], mass, s=0.5, color=cmap(0.8), label='data')\n",
        "        axes[i, j].scatter(nodes[:,i*3+j], pred, s=0.5, color=cmap(0.2), label='GNN')\n",
        "        axes[i, j].legend()\n",
        "        axes[i, j].set_ylabel(r'$\\log M_{*}$')\n",
        "        axes[i, j].set_xlabel(f'{props[i*3+j]}')\n",
        "        axes[i, j].grid()\n",
        "\n",
        "plt.show()"
      ]
    },
    {
      "cell_type": "code",
      "source": [
        "slope, intercept = np.polyfit(mass, pred.tolist(), 1)\n",
        "r = slope*np.array(mass)+intercept\n",
        "\n",
        "fig, ax = plt.subplots()\n",
        "ax.scatter(mass, pred, s=0.8)\n",
        "ax.scatter(mass, r, color='b', s=0.8)\n",
        "ax.set_xlabel('Prediction')\n",
        "ax.set_ylabel('Data')\n",
        "plt.title(r'$\\log M_{*}$ (GNN)')\n",
        "plt.legend(['Data', 'Linear fit'])\n",
        "plt.grid()\n",
        "plt.show()"
      ],
      "metadata": {
        "id": "3NeVOAufnXlc"
      },
      "execution_count": null,
      "outputs": []
    }
  ],
  "metadata": {
    "kernelspec": {
      "display_name": "Python 3",
      "name": "python3"
    },
    "language_info": {
      "codemirror_mode": {
        "name": "ipython",
        "version": 3
      },
      "file_extension": ".py",
      "mimetype": "text/x-python",
      "name": "python",
      "nbconvert_exporter": "python",
      "pygments_lexer": "ipython3",
      "version": "3.11.5"
    },
    "orig_nbformat": 4,
    "colab": {
      "provenance": [],
      "gpuType": "T4"
    },
    "accelerator": "GPU"
  },
  "nbformat": 4,
  "nbformat_minor": 0
}